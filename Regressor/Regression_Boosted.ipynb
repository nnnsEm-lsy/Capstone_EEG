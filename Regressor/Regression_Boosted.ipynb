{
 "cells": [
  {
   "cell_type": "code",
   "execution_count": 1,
   "metadata": {},
   "outputs": [],
   "source": [
    "import pandas as pd\n",
    "import os\n",
    "import numpy as np\n",
    "from math import sqrt\n",
    "\n",
    "from sklearn.linear_model import Lasso, ElasticNet, Ridge\n",
    "from sklearn.svm import SVR\n",
    "from sklearn.neighbors import KNeighborsRegressor\n",
    "from sklearn.tree import DecisionTreeRegressor\n",
    "from sklearn.ensemble import RandomForestRegressor, AdaBoostRegressor\n",
    "from sklearn.neural_network import MLPRegressor\n",
    "from sklearn.metrics import mean_squared_error, make_scorer\n",
    "from scipy.stats import pearsonr\n",
    "from sklearn.preprocessing import StandardScaler\n",
    "from sklearn.model_selection import cross_validate, KFold\n",
    "from sklearn.feature_extraction.text import TfidfVectorizer, CountVectorizer\n",
    "from sklearn.pipeline import make_pipeline\n",
    "# from nltk.stem.snowball import SnowballStemmer\n",
    "from sklearn.decomposition import PCA\n",
    "from sklearn.compose import ColumnTransformer\n",
    "from sklearn.decomposition import TruncatedSVD\n",
    "\n",
    "\n"
   ]
  },
  {
   "cell_type": "code",
   "execution_count": 2,
   "metadata": {
    "pycharm": {
     "name": "#%%\n"
    }
   },
   "outputs": [],
   "source": [
    "FEATURES = 'D:\\\\Study\\\\PMEmo2019\\\\PMEmo2019\\\\features\\\\'\n",
    "ANNOTATIONS = 'D:\\\\Study\\\\PMEmo2019\\\\PMEmo2019\\\\annotations\\\\'\n",
    "DATASET_DIR_2 = 'D:\\\\Study\\\\PMEmo2019\\\\'\n",
    "\n",
    "\n"
   ]
  },
  {
   "cell_type": "code",
   "execution_count": 3,
   "metadata": {
    "pycharm": {
     "name": "#%%\n"
    }
   },
   "outputs": [
    {
     "name": "stdout",
     "output_type": "stream",
     "text": [
      "In Arousal dimension...\n"
     ]
    },
    {
     "data": {
      "application/vnd.jupyter.widget-view+json": {
       "model_id": "a6c4677b77124e7ba156d8df8a7cc225",
       "version_major": 2,
       "version_minor": 0
      },
      "text/plain": [
       "HBox(children=(FloatProgress(value=0.0, description='regressors', max=11.0, style=ProgressStyle(description_wi…"
      ]
     },
     "metadata": {},
     "output_type": "display_data"
    },
    {
     "name": "stdout",
     "output_type": "stream",
     "text": [
      "\n"
     ]
    },
    {
     "data": {
      "text/html": [
       "<style  type=\"text/css\" >\n",
       "    #T_bad6289e_c745_11ea_83bc_dcf505da5798row0_col10 {\n",
       "            background-color:  yellow;\n",
       "        }</style><table id=\"T_bad6289e_c745_11ea_83bc_dcf505da5798\" ><thead>    <tr>        <th class=\"blank level0\" ></th>        <th class=\"col_heading level0 col0\" >Lasso</th>        <th class=\"col_heading level0 col1\" >ElasticNet</th>        <th class=\"col_heading level0 col2\" >Ridge</th>        <th class=\"col_heading level0 col3\" >kNN</th>        <th class=\"col_heading level0 col4\" >SVRrbf</th>        <th class=\"col_heading level0 col5\" >SVRpoly</th>        <th class=\"col_heading level0 col6\" >SVRlinear</th>        <th class=\"col_heading level0 col7\" >DT</th>        <th class=\"col_heading level0 col8\" >RF</th>        <th class=\"col_heading level0 col9\" >MLP</th>        <th class=\"col_heading level0 col10\" >AdaBoost</th>        <th class=\"col_heading level0 col11\" >Mean</th>        <th class=\"col_heading level0 col12\" >std</th>    </tr></thead><tbody>\n",
       "                <tr>\n",
       "                        <th id=\"T_bad6289e_c745_11ea_83bc_dcf505da5798level0_row0\" class=\"row_heading level0 row0\" >RMSE</th>\n",
       "                        <td id=\"T_bad6289e_c745_11ea_83bc_dcf505da5798row0_col0\" class=\"data row0 col0\" >0.184</td>\n",
       "                        <td id=\"T_bad6289e_c745_11ea_83bc_dcf505da5798row0_col1\" class=\"data row0 col1\" >0.184</td>\n",
       "                        <td id=\"T_bad6289e_c745_11ea_83bc_dcf505da5798row0_col2\" class=\"data row0 col2\" >0.140</td>\n",
       "                        <td id=\"T_bad6289e_c745_11ea_83bc_dcf505da5798row0_col3\" class=\"data row0 col3\" >0.136</td>\n",
       "                        <td id=\"T_bad6289e_c745_11ea_83bc_dcf505da5798row0_col4\" class=\"data row0 col4\" >0.119</td>\n",
       "                        <td id=\"T_bad6289e_c745_11ea_83bc_dcf505da5798row0_col5\" class=\"data row0 col5\" >0.227</td>\n",
       "                        <td id=\"T_bad6289e_c745_11ea_83bc_dcf505da5798row0_col6\" class=\"data row0 col6\" >0.110</td>\n",
       "                        <td id=\"T_bad6289e_c745_11ea_83bc_dcf505da5798row0_col7\" class=\"data row0 col7\" >0.130</td>\n",
       "                        <td id=\"T_bad6289e_c745_11ea_83bc_dcf505da5798row0_col8\" class=\"data row0 col8\" >0.157</td>\n",
       "                        <td id=\"T_bad6289e_c745_11ea_83bc_dcf505da5798row0_col9\" class=\"data row0 col9\" >1.237</td>\n",
       "                        <td id=\"T_bad6289e_c745_11ea_83bc_dcf505da5798row0_col10\" class=\"data row0 col10\" >0.109</td>\n",
       "                        <td id=\"T_bad6289e_c745_11ea_83bc_dcf505da5798row0_col11\" class=\"data row0 col11\" >0.249</td>\n",
       "                        <td id=\"T_bad6289e_c745_11ea_83bc_dcf505da5798row0_col12\" class=\"data row0 col12\" >0.330</td>\n",
       "            </tr>\n",
       "    </tbody></table>"
      ],
      "text/plain": [
       "<pandas.io.formats.style.Styler at 0x233f57418c8>"
      ]
     },
     "metadata": {},
     "output_type": "display_data"
    },
    {
     "name": "stdout",
     "output_type": "stream",
     "text": [
      "In Valence dimension...\n"
     ]
    },
    {
     "data": {
      "application/vnd.jupyter.widget-view+json": {
       "model_id": "2096faa2ad344b16a2540c59a5d9210d",
       "version_major": 2,
       "version_minor": 0
      },
      "text/plain": [
       "HBox(children=(FloatProgress(value=0.0, description='regressors', max=11.0, style=ProgressStyle(description_wi…"
      ]
     },
     "metadata": {},
     "output_type": "display_data"
    },
    {
     "name": "stdout",
     "output_type": "stream",
     "text": [
      "\n"
     ]
    },
    {
     "data": {
      "text/html": [
       "<style  type=\"text/css\" >\n",
       "    #T_bf750f40_c746_11ea_823c_dcf505da5798row0_col4 {\n",
       "            background-color:  yellow;\n",
       "        }</style><table id=\"T_bf750f40_c746_11ea_823c_dcf505da5798\" ><thead>    <tr>        <th class=\"blank level0\" ></th>        <th class=\"col_heading level0 col0\" >Lasso</th>        <th class=\"col_heading level0 col1\" >ElasticNet</th>        <th class=\"col_heading level0 col2\" >Ridge</th>        <th class=\"col_heading level0 col3\" >kNN</th>        <th class=\"col_heading level0 col4\" >SVRrbf</th>        <th class=\"col_heading level0 col5\" >SVRpoly</th>        <th class=\"col_heading level0 col6\" >SVRlinear</th>        <th class=\"col_heading level0 col7\" >DT</th>        <th class=\"col_heading level0 col8\" >RF</th>        <th class=\"col_heading level0 col9\" >MLP</th>        <th class=\"col_heading level0 col10\" >AdaBoost</th>        <th class=\"col_heading level0 col11\" >Mean</th>        <th class=\"col_heading level0 col12\" >std</th>    </tr></thead><tbody>\n",
       "                <tr>\n",
       "                        <th id=\"T_bf750f40_c746_11ea_823c_dcf505da5798level0_row0\" class=\"row_heading level0 row0\" >RMSE</th>\n",
       "                        <td id=\"T_bf750f40_c746_11ea_823c_dcf505da5798row0_col0\" class=\"data row0 col0\" >0.162</td>\n",
       "                        <td id=\"T_bf750f40_c746_11ea_823c_dcf505da5798row0_col1\" class=\"data row0 col1\" >0.162</td>\n",
       "                        <td id=\"T_bf750f40_c746_11ea_823c_dcf505da5798row0_col2\" class=\"data row0 col2\" >0.163</td>\n",
       "                        <td id=\"T_bf750f40_c746_11ea_823c_dcf505da5798row0_col3\" class=\"data row0 col3\" >0.135</td>\n",
       "                        <td id=\"T_bf750f40_c746_11ea_823c_dcf505da5798row0_col4\" class=\"data row0 col4\" >0.121</td>\n",
       "                        <td id=\"T_bf750f40_c746_11ea_823c_dcf505da5798row0_col5\" class=\"data row0 col5\" >0.225</td>\n",
       "                        <td id=\"T_bf750f40_c746_11ea_823c_dcf505da5798row0_col6\" class=\"data row0 col6\" >0.122</td>\n",
       "                        <td id=\"T_bf750f40_c746_11ea_823c_dcf505da5798row0_col7\" class=\"data row0 col7\" >0.138</td>\n",
       "                        <td id=\"T_bf750f40_c746_11ea_823c_dcf505da5798row0_col8\" class=\"data row0 col8\" >0.140</td>\n",
       "                        <td id=\"T_bf750f40_c746_11ea_823c_dcf505da5798row0_col9\" class=\"data row0 col9\" >1.223</td>\n",
       "                        <td id=\"T_bf750f40_c746_11ea_823c_dcf505da5798row0_col10\" class=\"data row0 col10\" >0.121</td>\n",
       "                        <td id=\"T_bf750f40_c746_11ea_823c_dcf505da5798row0_col11\" class=\"data row0 col11\" >0.247</td>\n",
       "                        <td id=\"T_bf750f40_c746_11ea_823c_dcf505da5798row0_col12\" class=\"data row0 col12\" >0.325</td>\n",
       "            </tr>\n",
       "    </tbody></table>"
      ],
      "text/plain": [
       "<pandas.io.formats.style.Styler at 0x2338544b4c8>"
      ]
     },
     "metadata": {},
     "output_type": "display_data"
    }
   ],
   "source": [
    "\n",
    "def load_static_features():\n",
    "    features_csv = os.path.join(FEATURES, 'static_features.csv')\n",
    "    static_features= pd.read_csv(features_csv, index_col=0)\n",
    "    return static_features\n",
    "\n",
    "def load_static_features_and_valence():\n",
    "    static_features = load_static_features()\n",
    "    valence_csv = os.path.join(ANNOTATIONS, 'static_annotations.csv')\n",
    "    valence = pd.read_csv(valence_csv, index_col=0, usecols=['musicId','Valence(mean)'])\n",
    "    return static_features.join(valence).dropna()\n",
    "\n",
    "def load_static_features_and_arousal():\n",
    "    static_features = load_static_features()\n",
    "    arousal_csv = os.path.join(ANNOTATIONS, 'static_annotations.csv')\n",
    "    arousal = pd.read_csv(arousal_csv, index_col=0, usecols=['musicId','Arousal(mean)'])\n",
    "    return static_features.join(arousal).dropna()\n",
    "\n",
    "def load_audio_dataset(data):\n",
    "    features = data[data.columns[:-1]].values\n",
    "    labels = data[data.columns[-1]].values\n",
    "#     scaler = StandardScaler(copy=False)\n",
    "#     scaler.fit_transform(features)\n",
    "    return features, labels\n",
    "\n",
    "def rmse(y, y_pred):\n",
    "    return sqrt(mean_squared_error(y, y_pred))\n",
    "\n",
    "\n",
    "regressors = {\n",
    "    'Lasso': Lasso(),\n",
    "    'ElasticNet': ElasticNet(),\n",
    "    'Ridge': Ridge(),\n",
    "    'kNN': KNeighborsRegressor(),\n",
    "    'SVRrbf': SVR(kernel='rbf', gamma='scale'),\n",
    "    'SVRpoly': SVR(kernel='poly', gamma='scale'),\n",
    "    'SVRlinear': SVR(kernel='linear', gamma='scale'),\n",
    "    'DT': DecisionTreeRegressor(max_depth=5),\n",
    "    'RF': RandomForestRegressor(max_depth=5, n_estimators=10, max_features=1),\n",
    "    'MLP': MLPRegressor(hidden_layer_sizes=(200,50), max_iter=2000),\n",
    "    'AdaBoost': AdaBoostRegressor(n_estimators=10),\n",
    "}\n",
    "\n",
    "from tqdm import notebook\n",
    "import IPython.display as ipd\n",
    "\n",
    "\n",
    "def cross_val_regression(regressors, features, labels, preprocessfunc):\n",
    "    columns = list(regressors.keys())\n",
    "    scores = pd.DataFrame(columns=columns, index=['RMSE'])\n",
    "\n",
    "    for reg_name, reg in notebook.tqdm(regressors.items(), desc='regressors'):\n",
    "        scorer = {'rmse': make_scorer(rmse)}\n",
    "        reg = make_pipeline(*preprocessfunc, reg)\n",
    "        reg_score = cross_validate(reg, features, labels, scoring=scorer, cv=10, return_train_score=False)\n",
    "        scores.loc['RMSE', reg_name] = reg_score['test_rmse'].mean()\n",
    "    #         scores.loc['R', reg_name] = reg_score['test_r'].mean()\n",
    "\n",
    "    mean_rmse = scores.mean(axis=1)\n",
    "    std_rmse = scores.std(axis=1)\n",
    "\n",
    "    scores['Mean'] = mean_rmse\n",
    "    scores['std'] = std_rmse\n",
    "    return scores\n",
    "\n",
    "\n",
    "def format_scores(scores):\n",
    "    def highlight(s):\n",
    "        is_min = s == min(s)\n",
    "        #         is_max = s == max(s)\n",
    "        #         is_max_or_min = (is_min | is_max)\n",
    "        return ['background-color: yellow' if v else '' for v in is_min]\n",
    "\n",
    "    scores = scores.style.apply(highlight, axis=1, subset=pd.IndexSlice[:, :scores.columns[-2]])\n",
    "    return scores.format('{:.3f}')\n",
    "\n",
    "\n",
    "prefunc = [StandardScaler()]\n",
    "\n",
    "print('In Arousal dimension...')\n",
    "data_a = load_static_features_and_arousal()\n",
    "features_a, labels_a = load_audio_dataset(data_a)\n",
    "\n",
    "scores_a_a = cross_val_regression(regressors, features_a, labels_a, prefunc)\n",
    "ipd.display(format_scores(scores_a_a))\n",
    "\n",
    "\n",
    "\n",
    "print('In Valence dimension...')\n",
    "data_v = load_static_features_and_valence()\n",
    "features_v, labels_v = load_audio_dataset(data_v)\n",
    "\n",
    "scores_a_v = cross_val_regression(regressors, features_v, labels_v, prefunc)\n",
    "ipd.display(format_scores(scores_a_v))"
   ]
  },
  {
   "cell_type": "code",
   "execution_count": null,
   "metadata": {
    "pycharm": {
     "name": "#%%\n"
    }
   },
   "outputs": [],
   "source": [
    "\n"
   ]
  }
 ],
 "metadata": {
  "kernelspec": {
   "display_name": "PyCharm (Capstone)",
   "language": "python",
   "name": "pycharm-6336437a"
  },
  "language_info": {
   "codemirror_mode": {
    "name": "ipython",
    "version": 3
   },
   "file_extension": ".py",
   "mimetype": "text/x-python",
   "name": "python",
   "nbconvert_exporter": "python",
   "pygments_lexer": "ipython3",
   "version": "3.7.6"
  }
 },
 "nbformat": 4,
 "nbformat_minor": 1
}
