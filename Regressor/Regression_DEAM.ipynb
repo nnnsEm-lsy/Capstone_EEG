{
 "cells": [
  {
   "cell_type": "code",
   "execution_count": 1,
   "metadata": {},
   "outputs": [],
   "source": [
    "import pandas as pd\n",
    "import os\n",
    "import numpy as np\n",
    "from math import sqrt\n",
    "\n",
    "from sklearn.utils import shuffle\n",
    "from sklearn.linear_model import Lasso, ElasticNet, Ridge\n",
    "from sklearn.svm import SVR, LinearSVR\n",
    "from sklearn.neighbors import KNeighborsRegressor\n",
    "from sklearn.tree import DecisionTreeRegressor\n",
    "from sklearn.ensemble import RandomForestRegressor, AdaBoostRegressor\n",
    "from sklearn.neural_network import MLPRegressor\n",
    "from sklearn.metrics import mean_squared_error, make_scorer\n",
    "from scipy.stats import pearsonr\n",
    "from sklearn.preprocessing import StandardScaler\n",
    "from sklearn.model_selection import cross_validate, KFold, train_test_split\n",
    "from sklearn.feature_extraction.text import TfidfVectorizer, CountVectorizer\n",
    "from sklearn.pipeline import make_pipeline\n",
    "#from nltk.stem.snowball import SnowballStemmer\n",
    "from tqdm import tqdm_notebook\n",
    "import IPython.display as ipd\n",
    "\n"
   ]
  },
  {
   "cell_type": "code",
   "execution_count": 2,
   "metadata": {
    "pycharm": {
     "name": "#%%\n"
    }
   },
   "outputs": [],
   "source": [
    "\n",
    "DATASET_DIR = 'D:\\Study\\PMEmo2019\\PMEmo2019'\n",
    "\n",
    "features = pd.read_csv(os.path.join(DATASET_DIR, 'features', 'dynamic_features.csv'))\n",
    "annotations = pd.read_csv(os.path.join(DATASET_DIR, 'annotations', 'dynamic_annotations.csv'))\n",
    "dataset = pd.merge(features, annotations, on=['musicId', 'frameTime'])\n",
    "\n"
   ]
  },
  {
   "cell_type": "code",
   "execution_count": 3,
   "metadata": {
    "pycharm": {
     "name": "#%%\n"
    }
   },
   "outputs": [],
   "source": [
    "def rmse(y, y_pred):\n",
    "    return sqrt(mean_squared_error(y, y_pred))\n",
    "\n",
    "regressors = {\n",
    "    'Lasso': Lasso(),\n",
    "    'ElasticNet': ElasticNet(),\n",
    "    'Ridge': Ridge(),\n",
    "    'kNN': KNeighborsRegressor(),\n",
    "    'SVRrbf': SVR(kernel='rbf', gamma='scale'),\n",
    "    'SVRpoly': SVR(kernel='poly', gamma='scale'),\n",
    "    'SVRlinear': SVR(kernel='linear', gamma='scale'),\n",
    "    'DT': DecisionTreeRegressor(max_depth=5),\n",
    "    'RF': RandomForestRegressor(max_depth=5, n_estimators=10, max_features=1),\n",
    "     'MLP': MLPRegressor(hidden_layer_sizes=(200,50), max_iter=2000),\n",
    "     'AdaBoost': AdaBoostRegressor(n_estimators=10),\n",
    "}"
   ]
  },
  {
   "cell_type": "code",
   "execution_count": 22,
   "metadata": {
    "pycharm": {
     "name": "#%%\n"
    }
   },
   "outputs": [],
   "source": [
    "def cross_val_regression(regressors, features, labels, preprocessfunc):\n",
    "    columns = list(regressors.keys())\n",
    "    scores = pd.DataFrame(columns=columns, index=['RMSE'])\n",
    "\n",
    "    for reg_name, reg in tqdm_notebook(regressors.items(), desc='regressors'):\n",
    "        scorer = {'rmse': make_scorer(rmse)}\n",
    "        reg = make_pipeline(*preprocessfunc, reg)\n",
    "        reg_score = cross_validate(reg, features, labels, scoring=scorer, cv=10, return_train_score=False) \n",
    "        scores.loc['RMSE', reg_name] = reg_score['test_rmse'].mean()\n",
    "#         scores.loc['R', reg_name] = reg_score['test_r'].mean()\n",
    "    return scores\n",
    "\n",
    "def format_scores(scores):\n",
    "    def highlight(s):\n",
    "        is_min = s == min(s)\n",
    "#         is_max = s == max(s)\n",
    "#         is_max_or_min = (is_min | is_max)\n",
    "        return ['background-color: yellow' if v else '' for v in is_min]\n",
    "    scores = scores.style.apply(highlight, axis=1, subset=pd.IndexSlice[:, :scores.columns[-2]])\n",
    "    return scores.format('{:.3f}')\n"
   ]
  },
  {
   "cell_type": "code",
   "execution_count": 23,
   "metadata": {},
   "outputs": [],
   "source": [
    "def regression_results(regressors, trainset, testset, featureNames, labelName, filePrefix, preprocessfunc):\n",
    "    X_train = trainset[featureNames]\n",
    "    y_train = trainset[labelName]\n",
    "    X_test = testset[featureNames]\n",
    "    y_test = testset[labelName]\n",
    "\n",
    "    columns = ['musicId', 'y_test'] + list(regressors.keys())\n",
    "    results = pd.DataFrame(columns=columns)\n",
    "    results['musicId'] = testset['musicId']\n",
    "    results['y_test'] = y_test.values\n",
    "    \n",
    "    for reg_name, reg in tqdm_notebook(regressors.items(), desc='regressors'):\n",
    "        reg = make_pipeline(*preprocessfunc, reg)\n",
    "        reg.fit(X_train, y_train)\n",
    "        y_pred = reg.predict(X_test)\n",
    "        results[reg_name] = y_pred\n",
    "        results.to_csv(os.path.join('temp_results',f'{filePrefix}_regression_results_{labelName}.csv'))"
   ]
  },
  {
   "cell_type": "code",
   "execution_count": 24,
   "metadata": {},
   "outputs": [],
   "source": [
    "def compute_rmse_across_songs(resultsFile):\n",
    "    results = pd.read_csv(resultsFile,index_col=0).dropna(axis=1, how='any')\n",
    "    columns = results.columns[2:]\n",
    "    scores = pd.DataFrame(columns=columns, index=['rmse_across_segments', 'rmse_across_songs'])\n",
    "    rmse_across_songs = {}\n",
    "    testsongs_num = len(results['musicId'].unique())\n",
    "\n",
    "    for reg_name in columns:\n",
    "        scores.loc['rmse_across_segments', reg_name] = rmse(results['y_test'], results[reg_name])\n",
    "        rmse_across_songs[reg_name] = 0\n",
    "\n",
    "    for i, g in results.groupby('musicId'):\n",
    "        for reg_name in columns:\n",
    "            rmse_across_songs[reg_name] += rmse(g['y_test'], g[reg_name])\n",
    "\n",
    "    for reg_name in columns:\n",
    "        scores.loc['rmse_across_songs', reg_name] = rmse_across_songs[reg_name]/testsongs_num\n",
    "    \n",
    "    mean_rmse = scores.mean(axis=1)\n",
    "    std_rmse = scores.std(axis=1)\n",
    "    \n",
    "    scores['Mean'] = mean_rmse\n",
    "    scores['std'] = std_rmse\n",
    "    ipd.display(format_scores(scores))"
   ]
  },
  {
   "cell_type": "code",
   "execution_count": 25,
   "metadata": {},
   "outputs": [
    {
     "name": "stdout",
     "output_type": "stream",
     "text": [
      "[63, 490, 34, 743, 104, 177, 79, 894, 14, 668, 683, 151, 504, 516, 355, 98, 97, 579, 892, 837, 152, 169, 388, 391, 561, 850, 985, 958, 572, 514, 625, 791, 517, 507, 501, 1000, 803, 457, 403, 670, 51, 798, 59, 531, 466, 503, 794, 568, 279, 103, 350, 917, 428, 417, 393, 571, 354, 283, 906, 149, 56, 128, 742, 993, 94, 754, 199, 57, 576, 463, 284, 126, 488, 253, 227, 730, 861]\n"
     ]
    }
   ],
   "source": [
    "songs = dataset['musicId'].unique()\n",
    "songs = shuffle(songs, random_state=3)\n",
    "test_num = round(len(songs)*0.1)\n",
    "testsongs = songs[:test_num]\n",
    "print(list(testsongs))"
   ]
  },
  {
   "cell_type": "code",
   "execution_count": 27,
   "metadata": {
    "scrolled": true
   },
   "outputs": [
    {
     "name": "stdout",
     "output_type": "stream",
     "text": [
      "In Arousal dimension...\n"
     ]
    },
    {
     "name": "stderr",
     "output_type": "stream",
     "text": [
      "C:\\Users\\asus\\anaconda3\\envs\\untitled\\lib\\site-packages\\ipykernel_launcher.py:12: TqdmDeprecationWarning: This function will be removed in tqdm==5.0.0\n",
      "Please use `tqdm.notebook.tqdm` instead of `tqdm.tqdm_notebook`\n",
      "  if sys.path[0] == '':\n"
     ]
    },
    {
     "data": {
      "application/vnd.jupyter.widget-view+json": {
       "model_id": "647836179ce14a089de2bff7af19dab7",
       "version_major": 2,
       "version_minor": 0
      },
      "text/plain": [
       "HBox(children=(FloatProgress(value=0.0, description='regressors', max=11.0, style=ProgressStyle(description_wi…"
      ]
     },
     "metadata": {},
     "output_type": "display_data"
    },
    {
     "name": "stdout",
     "output_type": "stream",
     "text": [
      "\n",
      "In Valence dimension...\n"
     ]
    },
    {
     "name": "stderr",
     "output_type": "stream",
     "text": [
      "C:\\Users\\asus\\anaconda3\\envs\\untitled\\lib\\site-packages\\ipykernel_launcher.py:12: TqdmDeprecationWarning: This function will be removed in tqdm==5.0.0\n",
      "Please use `tqdm.notebook.tqdm` instead of `tqdm.tqdm_notebook`\n",
      "  if sys.path[0] == '':\n"
     ]
    },
    {
     "data": {
      "application/vnd.jupyter.widget-view+json": {
       "model_id": "b74fc1006fd64732954448310cd4f35d",
       "version_major": 2,
       "version_minor": 0
      },
      "text/plain": [
       "HBox(children=(FloatProgress(value=0.0, description='regressors', max=11.0, style=ProgressStyle(description_wi…"
      ]
     },
     "metadata": {},
     "output_type": "display_data"
    },
    {
     "name": "stdout",
     "output_type": "stream",
     "text": [
      "\n"
     ]
    }
   ],
   "source": [
    "ftestset = dataset['musicId'].apply(lambda x: x in testsongs)\n",
    "testset = dataset[iftestset]\n",
    "trainset = dataset[~iftestset]\n",
    "prefunc = [StandardScaler()]\n",
    "featureNames = dataset.columns[2:262]\n",
    "\n",
    "print('In Arousal dimension...')\n",
    "regression_results(regressors, trainset, testset, featureNames, 'Arousal(mean)', 'audio', prefunc)\n",
    "\n",
    "print('In Valence dimension...')\n",
    "regression_results(regressors, trainset, testset, featureNames, 'Valence(mean)', 'audio', prefunc)"
   ]
  },
  {
   "cell_type": "code",
   "execution_count": 28,
   "metadata": {},
   "outputs": [
    {
     "ename": "NameError",
     "evalue": "name 'rint' is not defined",
     "output_type": "error",
     "traceback": [
      "\u001b[1;31m---------------------------------------------------------------------------\u001b[0m",
      "\u001b[1;31mNameError\u001b[0m                                 Traceback (most recent call last)",
      "\u001b[1;32m<ipython-input-28-5b32f3194a4b>\u001b[0m in \u001b[0;36m<module>\u001b[1;34m\u001b[0m\n\u001b[1;32m----> 1\u001b[1;33m \u001b[0mrint\u001b[0m\u001b[1;33m(\u001b[0m\u001b[1;34m'In Arousal dimension...'\u001b[0m\u001b[1;33m)\u001b[0m\u001b[1;33m\u001b[0m\u001b[1;33m\u001b[0m\u001b[0m\n\u001b[0m\u001b[0;32m      2\u001b[0m \u001b[0mcompute_rmse_across_songs\u001b[0m\u001b[1;33m(\u001b[0m\u001b[0mos\u001b[0m\u001b[1;33m.\u001b[0m\u001b[0mpath\u001b[0m\u001b[1;33m.\u001b[0m\u001b[0mjoin\u001b[0m\u001b[1;33m(\u001b[0m\u001b[1;34m'temp_results'\u001b[0m\u001b[1;33m,\u001b[0m\u001b[1;34m'audio_regression_results_Arousal(mean).csv'\u001b[0m\u001b[1;33m)\u001b[0m\u001b[1;33m)\u001b[0m\u001b[1;33m\u001b[0m\u001b[1;33m\u001b[0m\u001b[0m\n\u001b[0;32m      3\u001b[0m \u001b[0mprint\u001b[0m\u001b[1;33m(\u001b[0m\u001b[1;34m'In Valence dimension...'\u001b[0m\u001b[1;33m)\u001b[0m\u001b[1;33m\u001b[0m\u001b[1;33m\u001b[0m\u001b[0m\n\u001b[0;32m      4\u001b[0m \u001b[0mcompute_rmse_across_songs\u001b[0m\u001b[1;33m(\u001b[0m\u001b[0mos\u001b[0m\u001b[1;33m.\u001b[0m\u001b[0mpath\u001b[0m\u001b[1;33m.\u001b[0m\u001b[0mjoin\u001b[0m\u001b[1;33m(\u001b[0m\u001b[1;34m'temp_results'\u001b[0m\u001b[1;33m,\u001b[0m\u001b[1;34m'audio_regression_results_Valence(mean).csv'\u001b[0m\u001b[1;33m)\u001b[0m\u001b[1;33m)\u001b[0m\u001b[1;33m\u001b[0m\u001b[1;33m\u001b[0m\u001b[0m\n",
      "\u001b[1;31mNameError\u001b[0m: name 'rint' is not defined"
     ]
    }
   ],
   "source": [
    "rint('In Arousal dimension...')\n",
    "compute_rmse_across_songs(os.path.join('temp_results','audio_regression_results_Arousal(mean).csv'))\n",
    "print('In Valence dimension...')\n",
    "compute_rmse_across_songs(os.path.join('temp_results','audio_regression_results_Valence(mean).csv'))"
   ]
  },
  {
   "cell_type": "code",
   "execution_count": 29,
   "metadata": {},
   "outputs": [
    {
     "name": "stdout",
     "output_type": "stream",
     "text": [
      "In Arousal dimension...\n"
     ]
    },
    {
     "data": {
      "text/html": [
       "<style  type=\"text/css\" >\n",
       "    #T_4d532434_d0c1_11ea_825d_def505da5799row0_col4 {\n",
       "            background-color:  yellow;\n",
       "        }    #T_4d532434_d0c1_11ea_825d_def505da5799row1_col4 {\n",
       "            background-color:  yellow;\n",
       "        }</style><table id=\"T_4d532434_d0c1_11ea_825d_def505da5799\" ><thead>    <tr>        <th class=\"blank level0\" ></th>        <th class=\"col_heading level0 col0\" >Lasso</th>        <th class=\"col_heading level0 col1\" >ElasticNet</th>        <th class=\"col_heading level0 col2\" >Ridge</th>        <th class=\"col_heading level0 col3\" >kNN</th>        <th class=\"col_heading level0 col4\" >SVRrbf</th>        <th class=\"col_heading level0 col5\" >SVRpoly</th>        <th class=\"col_heading level0 col6\" >SVRlinear</th>        <th class=\"col_heading level0 col7\" >DT</th>        <th class=\"col_heading level0 col8\" >RF</th>        <th class=\"col_heading level0 col9\" >MLP</th>        <th class=\"col_heading level0 col10\" >AdaBoost</th>        <th class=\"col_heading level0 col11\" >Mean</th>        <th class=\"col_heading level0 col12\" >std</th>    </tr></thead><tbody>\n",
       "                <tr>\n",
       "                        <th id=\"T_4d532434_d0c1_11ea_825d_def505da5799level0_row0\" class=\"row_heading level0 row0\" >rmse_across_segments</th>\n",
       "                        <td id=\"T_4d532434_d0c1_11ea_825d_def505da5799row0_col0\" class=\"data row0 col0\" >0.187</td>\n",
       "                        <td id=\"T_4d532434_d0c1_11ea_825d_def505da5799row0_col1\" class=\"data row0 col1\" >0.187</td>\n",
       "                        <td id=\"T_4d532434_d0c1_11ea_825d_def505da5799row0_col2\" class=\"data row0 col2\" >0.131</td>\n",
       "                        <td id=\"T_4d532434_d0c1_11ea_825d_def505da5799row0_col3\" class=\"data row0 col3\" >0.149</td>\n",
       "                        <td id=\"T_4d532434_d0c1_11ea_825d_def505da5799row0_col4\" class=\"data row0 col4\" >0.128</td>\n",
       "                        <td id=\"T_4d532434_d0c1_11ea_825d_def505da5799row0_col5\" class=\"data row0 col5\" >0.159</td>\n",
       "                        <td id=\"T_4d532434_d0c1_11ea_825d_def505da5799row0_col6\" class=\"data row0 col6\" >0.131</td>\n",
       "                        <td id=\"T_4d532434_d0c1_11ea_825d_def505da5799row0_col7\" class=\"data row0 col7\" >0.134</td>\n",
       "                        <td id=\"T_4d532434_d0c1_11ea_825d_def505da5799row0_col8\" class=\"data row0 col8\" >0.154</td>\n",
       "                        <td id=\"T_4d532434_d0c1_11ea_825d_def505da5799row0_col9\" class=\"data row0 col9\" >0.143</td>\n",
       "                        <td id=\"T_4d532434_d0c1_11ea_825d_def505da5799row0_col10\" class=\"data row0 col10\" >0.133</td>\n",
       "                        <td id=\"T_4d532434_d0c1_11ea_825d_def505da5799row0_col11\" class=\"data row0 col11\" >0.148</td>\n",
       "                        <td id=\"T_4d532434_d0c1_11ea_825d_def505da5799row0_col12\" class=\"data row0 col12\" >0.021</td>\n",
       "            </tr>\n",
       "            <tr>\n",
       "                        <th id=\"T_4d532434_d0c1_11ea_825d_def505da5799level0_row1\" class=\"row_heading level0 row1\" >rmse_across_songs</th>\n",
       "                        <td id=\"T_4d532434_d0c1_11ea_825d_def505da5799row1_col0\" class=\"data row1 col0\" >0.158</td>\n",
       "                        <td id=\"T_4d532434_d0c1_11ea_825d_def505da5799row1_col1\" class=\"data row1 col1\" >0.158</td>\n",
       "                        <td id=\"T_4d532434_d0c1_11ea_825d_def505da5799row1_col2\" class=\"data row1 col2\" >0.108</td>\n",
       "                        <td id=\"T_4d532434_d0c1_11ea_825d_def505da5799row1_col3\" class=\"data row1 col3\" >0.128</td>\n",
       "                        <td id=\"T_4d532434_d0c1_11ea_825d_def505da5799row1_col4\" class=\"data row1 col4\" >0.107</td>\n",
       "                        <td id=\"T_4d532434_d0c1_11ea_825d_def505da5799row1_col5\" class=\"data row1 col5\" >0.136</td>\n",
       "                        <td id=\"T_4d532434_d0c1_11ea_825d_def505da5799row1_col6\" class=\"data row1 col6\" >0.108</td>\n",
       "                        <td id=\"T_4d532434_d0c1_11ea_825d_def505da5799row1_col7\" class=\"data row1 col7\" >0.119</td>\n",
       "                        <td id=\"T_4d532434_d0c1_11ea_825d_def505da5799row1_col8\" class=\"data row1 col8\" >0.130</td>\n",
       "                        <td id=\"T_4d532434_d0c1_11ea_825d_def505da5799row1_col9\" class=\"data row1 col9\" >0.126</td>\n",
       "                        <td id=\"T_4d532434_d0c1_11ea_825d_def505da5799row1_col10\" class=\"data row1 col10\" >0.117</td>\n",
       "                        <td id=\"T_4d532434_d0c1_11ea_825d_def505da5799row1_col11\" class=\"data row1 col11\" >0.127</td>\n",
       "                        <td id=\"T_4d532434_d0c1_11ea_825d_def505da5799row1_col12\" class=\"data row1 col12\" >0.018</td>\n",
       "            </tr>\n",
       "    </tbody></table>"
      ],
      "text/plain": [
       "<pandas.io.formats.style.Styler at 0x1a2a27b28c8>"
      ]
     },
     "metadata": {},
     "output_type": "display_data"
    },
    {
     "name": "stdout",
     "output_type": "stream",
     "text": [
      "In Valence dimension...\n"
     ]
    },
    {
     "data": {
      "text/html": [
       "<style  type=\"text/css\" >\n",
       "    #T_4d82ab5c_d0c1_11ea_9c42_def505da5799row0_col4 {\n",
       "            background-color:  yellow;\n",
       "        }    #T_4d82ab5c_d0c1_11ea_9c42_def505da5799row1_col4 {\n",
       "            background-color:  yellow;\n",
       "        }</style><table id=\"T_4d82ab5c_d0c1_11ea_9c42_def505da5799\" ><thead>    <tr>        <th class=\"blank level0\" ></th>        <th class=\"col_heading level0 col0\" >Lasso</th>        <th class=\"col_heading level0 col1\" >ElasticNet</th>        <th class=\"col_heading level0 col2\" >Ridge</th>        <th class=\"col_heading level0 col3\" >kNN</th>        <th class=\"col_heading level0 col4\" >SVRrbf</th>        <th class=\"col_heading level0 col5\" >SVRpoly</th>        <th class=\"col_heading level0 col6\" >SVRlinear</th>        <th class=\"col_heading level0 col7\" >DT</th>        <th class=\"col_heading level0 col8\" >RF</th>        <th class=\"col_heading level0 col9\" >MLP</th>        <th class=\"col_heading level0 col10\" >AdaBoost</th>        <th class=\"col_heading level0 col11\" >Mean</th>        <th class=\"col_heading level0 col12\" >std</th>    </tr></thead><tbody>\n",
       "                <tr>\n",
       "                        <th id=\"T_4d82ab5c_d0c1_11ea_9c42_def505da5799level0_row0\" class=\"row_heading level0 row0\" >rmse_across_segments</th>\n",
       "                        <td id=\"T_4d82ab5c_d0c1_11ea_9c42_def505da5799row0_col0\" class=\"data row0 col0\" >0.157</td>\n",
       "                        <td id=\"T_4d82ab5c_d0c1_11ea_9c42_def505da5799row0_col1\" class=\"data row0 col1\" >0.157</td>\n",
       "                        <td id=\"T_4d82ab5c_d0c1_11ea_9c42_def505da5799row0_col2\" class=\"data row0 col2\" >0.139</td>\n",
       "                        <td id=\"T_4d82ab5c_d0c1_11ea_9c42_def505da5799row0_col3\" class=\"data row0 col3\" >0.147</td>\n",
       "                        <td id=\"T_4d82ab5c_d0c1_11ea_9c42_def505da5799row0_col4\" class=\"data row0 col4\" >0.131</td>\n",
       "                        <td id=\"T_4d82ab5c_d0c1_11ea_9c42_def505da5799row0_col5\" class=\"data row0 col5\" >0.158</td>\n",
       "                        <td id=\"T_4d82ab5c_d0c1_11ea_9c42_def505da5799row0_col6\" class=\"data row0 col6\" >0.138</td>\n",
       "                        <td id=\"T_4d82ab5c_d0c1_11ea_9c42_def505da5799row0_col7\" class=\"data row0 col7\" >0.141</td>\n",
       "                        <td id=\"T_4d82ab5c_d0c1_11ea_9c42_def505da5799row0_col8\" class=\"data row0 col8\" >0.140</td>\n",
       "                        <td id=\"T_4d82ab5c_d0c1_11ea_9c42_def505da5799row0_col9\" class=\"data row0 col9\" >0.148</td>\n",
       "                        <td id=\"T_4d82ab5c_d0c1_11ea_9c42_def505da5799row0_col10\" class=\"data row0 col10\" >0.140</td>\n",
       "                        <td id=\"T_4d82ab5c_d0c1_11ea_9c42_def505da5799row0_col11\" class=\"data row0 col11\" >0.145</td>\n",
       "                        <td id=\"T_4d82ab5c_d0c1_11ea_9c42_def505da5799row0_col12\" class=\"data row0 col12\" >0.009</td>\n",
       "            </tr>\n",
       "            <tr>\n",
       "                        <th id=\"T_4d82ab5c_d0c1_11ea_9c42_def505da5799level0_row1\" class=\"row_heading level0 row1\" >rmse_across_songs</th>\n",
       "                        <td id=\"T_4d82ab5c_d0c1_11ea_9c42_def505da5799row1_col0\" class=\"data row1 col0\" >0.128</td>\n",
       "                        <td id=\"T_4d82ab5c_d0c1_11ea_9c42_def505da5799row1_col1\" class=\"data row1 col1\" >0.128</td>\n",
       "                        <td id=\"T_4d82ab5c_d0c1_11ea_9c42_def505da5799row1_col2\" class=\"data row1 col2\" >0.115</td>\n",
       "                        <td id=\"T_4d82ab5c_d0c1_11ea_9c42_def505da5799row1_col3\" class=\"data row1 col3\" >0.123</td>\n",
       "                        <td id=\"T_4d82ab5c_d0c1_11ea_9c42_def505da5799row1_col4\" class=\"data row1 col4\" >0.109</td>\n",
       "                        <td id=\"T_4d82ab5c_d0c1_11ea_9c42_def505da5799row1_col5\" class=\"data row1 col5\" >0.134</td>\n",
       "                        <td id=\"T_4d82ab5c_d0c1_11ea_9c42_def505da5799row1_col6\" class=\"data row1 col6\" >0.113</td>\n",
       "                        <td id=\"T_4d82ab5c_d0c1_11ea_9c42_def505da5799row1_col7\" class=\"data row1 col7\" >0.118</td>\n",
       "                        <td id=\"T_4d82ab5c_d0c1_11ea_9c42_def505da5799row1_col8\" class=\"data row1 col8\" >0.114</td>\n",
       "                        <td id=\"T_4d82ab5c_d0c1_11ea_9c42_def505da5799row1_col9\" class=\"data row1 col9\" >0.129</td>\n",
       "                        <td id=\"T_4d82ab5c_d0c1_11ea_9c42_def505da5799row1_col10\" class=\"data row1 col10\" >0.116</td>\n",
       "                        <td id=\"T_4d82ab5c_d0c1_11ea_9c42_def505da5799row1_col11\" class=\"data row1 col11\" >0.121</td>\n",
       "                        <td id=\"T_4d82ab5c_d0c1_11ea_9c42_def505da5799row1_col12\" class=\"data row1 col12\" >0.008</td>\n",
       "            </tr>\n",
       "    </tbody></table>"
      ],
      "text/plain": [
       "<pandas.io.formats.style.Styler at 0x1a284783b08>"
      ]
     },
     "metadata": {},
     "output_type": "display_data"
    }
   ],
   "source": [
    "print('In Arousal dimension...')\n",
    "compute_rmse_across_songs(os.path.join('temp_results','audio_regression_results_Arousal(mean).csv'))\n",
    "print('In Valence dimension...')\n",
    "compute_rmse_across_songs(os.path.join('temp_results','audio_regression_results_Valence(mean).csv'))"
   ]
  },
  {
   "cell_type": "code",
   "execution_count": null,
   "metadata": {},
   "outputs": [],
   "source": []
  }
 ],
 "metadata": {
  "kernelspec": {
   "display_name": "PyCharm (Capstone)",
   "language": "python",
   "name": "pycharm-6336437a"
  },
  "language_info": {
   "codemirror_mode": {
    "name": "ipython",
    "version": 3
   },
   "file_extension": ".py",
   "mimetype": "text/x-python",
   "name": "python",
   "nbconvert_exporter": "python",
   "pygments_lexer": "ipython3",
   "version": "3.7.6"
  }
 },
 "nbformat": 4,
 "nbformat_minor": 1
}
