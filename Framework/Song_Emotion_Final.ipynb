{
 "cells": [
  {
   "cell_type": "markdown",
   "metadata": {
    "collapsed": true
   },
   "source": [
    "# Final_Mood_Index\n"
   ]
  },
  {
   "cell_type": "markdown",
   "metadata": {},
   "source": [
    "## imports"
   ]
  },
  {
   "cell_type": "code",
   "execution_count": 1,
   "metadata": {},
   "outputs": [],
   "source": [
    "import pandas as pd\n",
    "import numpy as np\n",
    "import csv\n",
    "import tkinter as tk\n",
    "from tkinter import filedialog\n",
    "import scipy\n",
    "from scipy import spatial"
   ]
  },
  {
   "cell_type": "markdown",
   "metadata": {},
   "source": [
    "## Load Files"
   ]
  },
  {
   "cell_type": "code",
   "execution_count": 2,
   "metadata": {},
   "outputs": [],
   "source": [
    "mood = pd.read_csv(\"C:/Users/asus/Desktop/Mood_Coordinates.csv\")\n",
    "song_value = pd.read_csv(\"C:/Users/asus/Desktop/Harmonic_AV_test.csv\")"
   ]
  },
  {
   "cell_type": "markdown",
   "metadata": {},
   "source": [
    "## DataFrames as Tuples"
   ]
  },
  {
   "cell_type": "code",
   "execution_count": 3,
   "metadata": {},
   "outputs": [],
   "source": [
    "pairs_1 = list(tuple(zip(mood.Arousal, mood.Valence)))\n",
    "pairs_2 = list(tuple(zip(song_value.Arousal, song_value.Valence)))\n",
    "\n",
    "min_distances = []\n",
    "closest_pairs = []\n",
    "names = []\n",
    "\n"
   ]
  },
  {
   "cell_type": "markdown",
   "metadata": {},
   "source": [
    "## Iterate over DF2"
   ]
  },
  {
   "cell_type": "code",
   "execution_count": 4,
   "metadata": {},
   "outputs": [],
   "source": [
    "for i in pairs_2:\n",
    "    min_dist = scipy.spatial.distance.cdist([i], pairs_1, metric='euclidean').min()\n",
    "    index_min = scipy.spatial.distance.cdist([i], pairs_1, metric='euclidean').argmin()\n",
    "    min_distances.append(min_dist)\n",
    "    closest_pairs.append(mood.loc[index_min, ['Arousal', 'Valence']])\n",
    "    names.append(mood.loc[index_min, 'Name'])"
   ]
  },
  {
   "cell_type": "markdown",
   "metadata": {},
   "source": [
    "## Append the Dataframe"
   ]
  },
  {
   "cell_type": "code",
   "execution_count": 5,
   "metadata": {},
   "outputs": [],
   "source": [
    "song_value['min_distance'] = min_distances\n",
    "song_value['closest_pairs'] = [tuple(i.values) for i in closest_pairs]\n",
    "song_value['name'] = names"
   ]
  },
  {
   "cell_type": "markdown",
   "metadata": {},
   "source": [
    "## Print"
   ]
  },
  {
   "cell_type": "code",
   "execution_count": 6,
   "metadata": {},
   "outputs": [
    {
     "name": "stdout",
     "output_type": "stream",
     "text": [
      "      song_Id   Arousal   Valence  min_distance     closest_pairs  \\\n",
      "0           2 -0.354827 -0.371665      0.159775     (-0.45, -0.5)   \n",
      "1           3 -0.279827 -0.271665      0.212138  (-0.078, -0.337)   \n",
      "2           4  0.270173  0.278335      0.150280      (0.42, 0.29)   \n",
      "3           5  0.220173 -0.046665      0.151278     (0.32, 0.067)   \n",
      "4           7  0.495173  0.303335      0.021848    (0.498, 0.325)   \n",
      "...       ...       ...       ...           ...               ...   \n",
      "1739     1996  0.370173 -0.171665      0.094831   (0.385, -0.078)   \n",
      "1740     1997 -0.129827  0.178335      0.163885   (-0.035, 0.312)   \n",
      "1741     1998  0.445173  0.453335      0.034326      (0.42, 0.43)   \n",
      "1742     1999  0.245173  0.003335      0.098246     (0.32, 0.067)   \n",
      "1743     2000  0.395173  0.303335      0.028182      (0.42, 0.29)   \n",
      "\n",
      "               name  \n",
      "0           Ashamed  \n",
      "1           Worried  \n",
      "2     Light Hearted  \n",
      "3         Expectant  \n",
      "4     Enthusianstic  \n",
      "...             ...  \n",
      "1739      Impressed  \n",
      "1740      Impatient  \n",
      "1741      Convinced  \n",
      "1742      Expectant  \n",
      "1743  Light Hearted  \n",
      "\n",
      "[1744 rows x 6 columns]\n"
     ]
    }
   ],
   "source": [
    "print (song_value)"
   ]
  },
  {
   "cell_type": "markdown",
   "metadata": {},
   "source": [
    "# CSV Exporting using Tkinter"
   ]
  },
  {
   "cell_type": "markdown",
   "metadata": {},
   "source": [
    "## Make a Canvas"
   ]
  },
  {
   "cell_type": "code",
   "execution_count": 8,
   "metadata": {},
   "outputs": [],
   "source": [
    "root = tk.Tk()\n",
    "canvas1 = tk.Canvas(root, width=300, height=300, bg='lightsteelblue2', relief='raised')\n",
    "canvas1.pack()\n"
   ]
  },
  {
   "cell_type": "markdown",
   "metadata": {},
   "source": [
    "## Select Dataframe to upload"
   ]
  },
  {
   "cell_type": "code",
   "execution_count": 9,
   "metadata": {},
   "outputs": [],
   "source": [
    "def exportCSV():\n",
    "    global song_value\n",
    "\n",
    "    export_file_path = filedialog.asksaveasfilename(defaultextension='.csv')\n",
    "    song_value.to_csv(export_file_path, index=False, header=True)\n"
   ]
  },
  {
   "cell_type": "markdown",
   "metadata": {},
   "source": [
    "## Make a button, Run to main"
   ]
  },
  {
   "cell_type": "code",
   "execution_count": 10,
   "metadata": {},
   "outputs": [],
   "source": [
    "saveAsButton_CSV = tk.Button(text='Export CSV', command=exportCSV, bg='green', fg='white',\n",
    "                             font=('helvetica', 12, 'bold'))\n",
    "canvas1.create_window(150, 150, window=saveAsButton_CSV)\n",
    "\n",
    "root.mainloop()"
   ]
  },
  {
   "cell_type": "code",
   "execution_count": null,
   "metadata": {},
   "outputs": [],
   "source": []
  },
  {
   "cell_type": "code",
   "execution_count": null,
   "metadata": {},
   "outputs": [],
   "source": []
  },
  {
   "cell_type": "code",
   "execution_count": null,
   "metadata": {},
   "outputs": [],
   "source": []
  },
  {
   "cell_type": "code",
   "execution_count": null,
   "metadata": {},
   "outputs": [],
   "source": []
  },
  {
   "cell_type": "code",
   "execution_count": null,
   "metadata": {},
   "outputs": [],
   "source": []
  },
  {
   "cell_type": "code",
   "execution_count": null,
   "metadata": {},
   "outputs": [],
   "source": []
  }
 ],
 "metadata": {
  "kernelspec": {
   "display_name": "Python 3",
   "language": "python",
   "name": "python3"
  },
  "language_info": {
   "codemirror_mode": {
    "name": "ipython",
    "version": 3
   },
   "file_extension": ".py",
   "mimetype": "text/x-python",
   "name": "python",
   "nbconvert_exporter": "python",
   "pygments_lexer": "ipython3",
   "version": "3.7.6"
  }
 },
 "nbformat": 4,
 "nbformat_minor": 1
}
